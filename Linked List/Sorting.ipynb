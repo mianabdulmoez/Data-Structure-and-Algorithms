{
 "cells": [
  {
   "cell_type": "markdown",
   "metadata": {},
   "source": [
    "### Selection"
   ]
  },
  {
   "cell_type": "code",
   "execution_count": 12,
   "metadata": {},
   "outputs": [
    {
     "name": "stdout",
     "output_type": "stream",
     "text": [
      "Acesending Order => [1, 2, 3, 4, 6, 9, 10, 35]\n"
     ]
    }
   ],
   "source": [
    "def Selection_Sort(array1):\n",
    "    n = len(array1)\n",
    "    \n",
    "    for i in range(n-1):\n",
    "        min = i\n",
    "        for j in range(i+1, n):\n",
    "            if array1[j] < array1[i]:\n",
    "                min = j\n",
    "                array1[i], array1[min] = array1[min], array1[i]\n",
    "                # return array1\n",
    "\n",
    "array1 = [2,35,3,6,9,4,1,10]\n",
    "Selection_Sort(array1)\n",
    "print(\"Acesending Order =>\",array1)"
   ]
  },
  {
   "cell_type": "code",
   "execution_count": 13,
   "metadata": {},
   "outputs": [
    {
     "name": "stdout",
     "output_type": "stream",
     "text": [
      "Decesending Order => [35, 10, 9, 6, 4, 3, 2, 1]\n"
     ]
    }
   ],
   "source": [
    "def Selection_Sort(array1):\n",
    "    n = len(array1)\n",
    "    \n",
    "    for i in range(n-1):\n",
    "        min = i\n",
    "        for j in range(i+1, n):\n",
    "            if array1[j] > array1[i]:\n",
    "                min = j\n",
    "                array1[i], array1[min] = array1[min], array1[i]\n",
    "                # return array1\n",
    "\n",
    "array1 = [2,35,3,6,9,4,1,10]\n",
    "Selection_Sort(array1)\n",
    "print(\"Decesending Order =>\",array1)"
   ]
  },
  {
   "cell_type": "markdown",
   "metadata": {},
   "source": [
    "### Bubble Sort"
   ]
  },
  {
   "cell_type": "code",
   "execution_count": 14,
   "metadata": {},
   "outputs": [
    {
     "name": "stdout",
     "output_type": "stream",
     "text": [
      "Acesending Order => [1, 2, 3, 4, 6, 9, 10, 35]\n"
     ]
    }
   ],
   "source": [
    "def Bubble_Sort(array1):\n",
    "    n = len(array1)\n",
    "    \n",
    "    for i in range(n-1):\n",
    "        # min = i\n",
    "        for j in range(i+1, n):\n",
    "            if array1[j] < array1[i]:\n",
    "                # min = j\n",
    "                array1[i], array1[j] = array1[j], array1[i]\n",
    "                # return array1\n",
    "\n",
    "array1 = [2,35,3,6,9,4,1,10]\n",
    "Bubble_Sort(array1)\n",
    "print(\"Acesending Order =>\",array1)"
   ]
  },
  {
   "cell_type": "code",
   "execution_count": 16,
   "metadata": {},
   "outputs": [
    {
     "name": "stdout",
     "output_type": "stream",
     "text": [
      "Decesending Order => [35, 10, 9, 6, 4, 3, 2, 1]\n"
     ]
    }
   ],
   "source": [
    "def Bubble_Sort(array1):\n",
    "    n = len(array1)\n",
    "    \n",
    "    for i in range(n-1):\n",
    "        # min = i\n",
    "        for j in range(i+1, n):\n",
    "            if array1[j] > array1[i]:\n",
    "                # min = j\n",
    "                array1[i], array1[j] = array1[j], array1[i]\n",
    "                # return array1\n",
    "\n",
    "array1 = [2,35,3,6,9,4,1,10]\n",
    "Bubble_Sort(array1)\n",
    "print(\"Decesending Order =>\",array1)"
   ]
  },
  {
   "cell_type": "markdown",
   "metadata": {},
   "source": [
    "### Merge Sort"
   ]
  },
  {
   "cell_type": "code",
   "execution_count": 26,
   "metadata": {},
   "outputs": [
    {
     "name": "stdout",
     "output_type": "stream",
     "text": [
      "[1, 2, 3, 4, 6, 9, 10, 35]\n"
     ]
    }
   ],
   "source": [
    "def Quick_Sort(stack):\n",
    "    if len(stack) <= 1:\n",
    "        return stack\n",
    "    else:\n",
    "        pivot = stack[-1] # or stack[len(stack)//2]  # Select the last element as pivot\n",
    "        left = [x for x in stack if x < pivot]  # Elements greater than pivot\n",
    "        right = [x for x in stack if x > pivot]  # Elements lesser than pivot\n",
    "            # Recursively sort both parts and combine with pivot in the middle\n",
    "        return Quick_Sort(left) + [pivot] + Quick_Sort(right)\n",
    "    \n",
    "stack = [2,35,3,6,9,4,1,10]\n",
    "l = Quick_Sort(stack)\n",
    "print(l)"
   ]
  },
  {
   "cell_type": "code",
   "execution_count": 30,
   "metadata": {},
   "outputs": [
    {
     "name": "stdout",
     "output_type": "stream",
     "text": [
      "[35, 10, 9, 6, 4, 3, 2, 1]\n"
     ]
    }
   ],
   "source": [
    "def Quick_Sort(stack):\n",
    "    if len(stack) <= 1:\n",
    "        return stack\n",
    "    else:\n",
    "        pivot = stack[-1]  # Select the last element as pivot\n",
    "        left = [x for x in stack if x > pivot]\n",
    "        middle = [x for x in stack if x == pivot]# Elements greater than pivot\n",
    "        right = [x for x in stack if x < pivot]  # Elements lesser than pivot\n",
    "        # Recursively sort both parts and combine with pivot in the middle\n",
    "        return Quick_Sort(left) + middle + Quick_Sort(right)\n",
    "    \n",
    "stack = [2, 35, 3, 6, 9, 4, 1, 10]\n",
    "sorted_stack = Quick_Sort(stack)  # Store the sorted result\n",
    "print(sorted_stack)  # Print the sorted list\n"
   ]
  },
  {
   "cell_type": "code",
   "execution_count": 34,
   "metadata": {},
   "outputs": [
    {
     "name": "stdout",
     "output_type": "stream",
     "text": [
      "[1, 2, 3, 4, 6, 9, 10, 35]\n"
     ]
    }
   ],
   "source": [
    "def Quick_Sort(stack):\n",
    "    if len(stack) <= 1:\n",
    "        return stack\n",
    "    else:\n",
    "        pivot = stack[len(stack)//2]  # Select the last element as pivot\n",
    "        left = [x for x in stack if x < pivot]  # Elements less than pivot\n",
    "        right = [x for x in stack if x > pivot]  # Elements greater than pivot\n",
    "        # Recursively sort both parts and combine with pivot in the middle\n",
    "        return Quick_Sort(left) + [pivot] + Quick_Sort(right)\n",
    "\n",
    "stack = [2, 35, 3, 6, 9, 4, 1, 10]\n",
    "sorted_stack = Quick_Sort(stack)  # Store the sorted result\n",
    "print(sorted_stack)  # Print the sorted list\n"
   ]
  },
  {
   "cell_type": "markdown",
   "metadata": {},
   "source": [
    "### Merge Sort"
   ]
  },
  {
   "cell_type": "code",
   "execution_count": 43,
   "metadata": {},
   "outputs": [
    {
     "name": "stdout",
     "output_type": "stream",
     "text": [
      "[1, 2, 3, 4, 6, 9, 10, 35]\n"
     ]
    }
   ],
   "source": [
    "def Merge_Sort(array1):\n",
    "    if len(array1) <= 1:\n",
    "        return array1\n",
    "    mid = len(array1) // 2\n",
    "    l_mid = array1[:mid]\n",
    "    r_mid = array1[mid:]\n",
    "    l = Merge_Sort(l_mid)\n",
    "    r = Merge_Sort(r_mid)\n",
    "    return merge(l, r)\n",
    "\n",
    "def merge(left, right):\n",
    "    new = []\n",
    "    i, j = 0, 0\n",
    "    while i < len(left) and j < len(right):\n",
    "        if left[i] < right[j]:\n",
    "            new.append(left[i])\n",
    "            i += 1\n",
    "        else:\n",
    "            new.append(right[j])\n",
    "            j += 1\n",
    "        \n",
    "    new.extend(left[i:])\n",
    "    new.extend(right[j:])\n",
    "    return new\n",
    "    \n",
    "array1 = [2, 35, 3, 6, 9, 4, 1, 10]\n",
    "sorted = Merge_Sort(array1)\n",
    "print(sorted)"
   ]
  },
  {
   "cell_type": "code",
   "execution_count": 39,
   "metadata": {},
   "outputs": [
    {
     "name": "stdout",
     "output_type": "stream",
     "text": [
      "[1, 2, 3, 4, 6, 9, 10, 35]\n"
     ]
    }
   ],
   "source": [
    "def Merge_Sort(array1):\n",
    "    if len(array1) <= 1:\n",
    "        return array1\n",
    "    mid = len(array1) // 2\n",
    "    l_mid = array1[:mid]\n",
    "    r_mid = array1[mid:]\n",
    "    l = Merge_Sort(l_mid)\n",
    "    r = Merge_Sort(r_mid)\n",
    "    return merge(l, r)\n",
    "\n",
    "def merge(left, right):\n",
    "    new = []\n",
    "    i, j = 0, 0\n",
    "    while i < len(left) and j < len(right):\n",
    "        if left[i] < right[j]:\n",
    "            new.append(left[i])\n",
    "            i += 1\n",
    "        else:\n",
    "            new.append(right[j])\n",
    "            j += 1\n",
    "    \n",
    "    # Append remaining elements from left or right\n",
    "    new.extend(left[i:])\n",
    "    new.extend(right[j:])\n",
    "    return new\n",
    "\n",
    "array1 = [2, 35, 3, 6, 9, 4, 1, 10]\n",
    "sorted_array = Merge_Sort(array1)\n",
    "print(sorted_array)\n"
   ]
  }
 ],
 "metadata": {
  "kernelspec": {
   "display_name": "Model-2.0",
   "language": "python",
   "name": "python3"
  },
  "language_info": {
   "codemirror_mode": {
    "name": "ipython",
    "version": 3
   },
   "file_extension": ".py",
   "mimetype": "text/x-python",
   "name": "python",
   "nbconvert_exporter": "python",
   "pygments_lexer": "ipython3",
   "version": "3.12.4"
  }
 },
 "nbformat": 4,
 "nbformat_minor": 2
}
