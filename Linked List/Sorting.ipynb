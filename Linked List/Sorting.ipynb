{
 "cells": [
  {
   "cell_type": "markdown",
   "metadata": {},
   "source": [
    "### Selection"
   ]
  },
  {
   "cell_type": "code",
   "execution_count": 6,
   "metadata": {},
   "outputs": [
    {
     "name": "stdout",
     "output_type": "stream",
     "text": [
      "Acesending Order [1, 2, 3, 4, 6, 9, 10, 35]\n"
     ]
    }
   ],
   "source": [
    "def Selection_Sort(array1):\n",
    "    n = len(array1)\n",
    "    \n",
    "    for i in range(n-1):\n",
    "        min = i\n",
    "        for j in range(i+1, n):\n",
    "            if array1[j] < array1[i]:\n",
    "                min = j\n",
    "                array1[i], array1[min] = array1[min], array1[i]\n",
    "                # return array1\n",
    "\n",
    "array1 = [2,35,3,6,9,4,1,10]\n",
    "Selection_Sort(array1)\n",
    "print(\"Acesending Order\",array1)"
   ]
  },
  {
   "cell_type": "code",
   "execution_count": 7,
   "metadata": {},
   "outputs": [
    {
     "name": "stdout",
     "output_type": "stream",
     "text": [
      "Decesending Order [35, 10, 9, 6, 4, 3, 2, 1]\n"
     ]
    }
   ],
   "source": [
    "def Selection_Sort(array1):\n",
    "    n = len(array1)\n",
    "    \n",
    "    for i in range(n-1):\n",
    "        min = i\n",
    "        for j in range(i+1, n):\n",
    "            if array1[j] > array1[i]:\n",
    "                min = j\n",
    "                array1[i], array1[min] = array1[min], array1[i]\n",
    "                # return array1\n",
    "\n",
    "array1 = [2,35,3,6,9,4,1,10]\n",
    "Selection_Sort(array1)\n",
    "print(\"Decesending Order\",array1)"
   ]
  }
 ],
 "metadata": {
  "kernelspec": {
   "display_name": "Model-2.0",
   "language": "python",
   "name": "python3"
  },
  "language_info": {
   "codemirror_mode": {
    "name": "ipython",
    "version": 3
   },
   "file_extension": ".py",
   "mimetype": "text/x-python",
   "name": "python",
   "nbconvert_exporter": "python",
   "pygments_lexer": "ipython3",
   "version": "3.12.4"
  }
 },
 "nbformat": 4,
 "nbformat_minor": 2
}
